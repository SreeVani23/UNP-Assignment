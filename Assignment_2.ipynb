{
  "nbformat": 4,
  "nbformat_minor": 0,
  "metadata": {
    "colab": {
      "name": "Assignment-2.ipynb",
      "provenance": [],
      "collapsed_sections": []
    },
    "kernelspec": {
      "name": "python3",
      "display_name": "Python 3"
    },
    "language_info": {
      "name": "python"
    }
  },
  "cells": [
    {
      "cell_type": "markdown",
      "source": [
        "This is your assignment on conditional statement and looping"
      ],
      "metadata": {
        "id": "RWGPvgMGhZo5"
      }
    },
    {
      "cell_type": "markdown",
      "source": [
        "**Problem-1**<br>\n",
        "Write a small program to check a number is divisible by 7 or not"
      ],
      "metadata": {
        "id": "IKuXztS-h62c"
      }
    },
    {
      "cell_type": "code",
      "source": [
        "n = 71\n",
        "if(n%7==0):\n",
        "  print(\"it is divisible by 7\")\n",
        "else:\n",
        "  print(\"it is not divisible by 7\")"
      ],
      "metadata": {
        "id": "tmLkoOqthcy-",
        "colab": {
          "base_uri": "https://localhost:8080/"
        },
        "outputId": "0b05233b-0063-481a-b906-b38960bfa0ff"
      },
      "execution_count": null,
      "outputs": [
        {
          "output_type": "stream",
          "name": "stdout",
          "text": [
            "it is not divisible by 7\n"
          ]
        }
      ]
    },
    {
      "cell_type": "markdown",
      "source": [
        "**Problem-2**<br>\n",
        "If a number is divisible by either 5 or 7, then we will call it a 'five-or-seven' number.<br> \n",
        "Write down a program to check if a number is 'five-or-seven' number or not."
      ],
      "metadata": {
        "id": "aKEBothyhZy8"
      }
    },
    {
      "cell_type": "code",
      "source": [
        "n = 70\n",
        "if n%7==0 or n%5==0:\n",
        "  print('The Number is 5 or 7')\n",
        "else:\n",
        "  print('The Number is not 5 or 7')"
      ],
      "metadata": {
        "id": "Vv-j3UR9hd1-",
        "colab": {
          "base_uri": "https://localhost:8080/"
        },
        "outputId": "0efba2dd-3453-46ff-f747-ba82f0007625"
      },
      "execution_count": null,
      "outputs": [
        {
          "output_type": "stream",
          "name": "stdout",
          "text": [
            "The Number is 5 or 7\n"
          ]
        }
      ]
    },
    {
      "cell_type": "markdown",
      "source": [
        "**Problem-3**<br>\n",
        "Write a program to calculate the electricity bill (accept number of unit from user) according to the following criteria:<br>  \n",
        "Upto first 100 units Rs. 3 per unit.<br>\n",
        "Next 100 units Rs. 5 per unit.<br>\n",
        "Next 300 units Rs. 7 per unit.<br>\n",
        "Above that, for each unit exceeding 500, Rs. 10 per unit flat.<br>"
      ],
      "metadata": {
        "id": "Y9KxqFjxl2zt"
      }
    },
    {
      "cell_type": "code",
      "source": [
        "unit = int(input(\"Enter a number:\"))\n",
        "bill = 0\n",
        "if(unit<=100):\n",
        "  bill = unit*3\n",
        "elif(unit<=300):\n",
        "  bill = (100*3)+(unit-100)*5\n",
        "elif(unit<=500):\n",
        "  bill = (100*3)+(100*5)+((unit-300)*7)\n",
        "else:\n",
        "  bill = (100*3)+(100*5)+(100*7)+((unit-500)*10)\n",
        "print(bill)"
      ],
      "metadata": {
        "id": "f_xfH-gSnRvI",
        "colab": {
          "base_uri": "https://localhost:8080/"
        },
        "outputId": "2b7a6312-6f84-42f2-efca-f5d302b7cf26"
      },
      "execution_count": null,
      "outputs": [
        {
          "output_type": "stream",
          "name": "stdout",
          "text": [
            "Enter a number:500\n",
            "2200\n"
          ]
        }
      ]
    },
    {
      "cell_type": "markdown",
      "source": [
        "**Problem-4**<br>\n",
        "Find out sum of square of all the numbers upto 10, starting from 1"
      ],
      "metadata": {
        "id": "rLNw2lAwhZ8q"
      }
    },
    {
      "cell_type": "code",
      "source": [
        "sum = 0\n",
        "for i in range(1, 11):\n",
        "  sum = sum+(i*i)\n",
        "print(sum)"
      ],
      "metadata": {
        "id": "8kgqZ_x-heuw",
        "colab": {
          "base_uri": "https://localhost:8080/"
        },
        "outputId": "1dd4de7e-9be0-4202-8b9d-cf546a6e7c13"
      },
      "execution_count": null,
      "outputs": [
        {
          "output_type": "stream",
          "name": "stdout",
          "text": [
            "385\n"
          ]
        }
      ]
    },
    {
      "cell_type": "markdown",
      "source": [
        "**Problem-5**<br>\n",
        "Find out sum of square of all the even numbers upto 10, starting from 1"
      ],
      "metadata": {
        "id": "Y-MCE0x9haiN"
      }
    },
    {
      "cell_type": "code",
      "source": [
        "sum = 0\n",
        "for i in range(1, 11):\n",
        "  if(i%2==0):\n",
        "    sum = sum+(i*i)\n",
        "print(sum)"
      ],
      "metadata": {
        "id": "Ki_-j4Dphfkd",
        "colab": {
          "base_uri": "https://localhost:8080/"
        },
        "outputId": "f3de68c2-da18-48da-e23a-21a8c50a0630"
      },
      "execution_count": null,
      "outputs": [
        {
          "output_type": "stream",
          "name": "stdout",
          "text": [
            "220\n"
          ]
        }
      ]
    },
    {
      "cell_type": "markdown",
      "source": [
        "**Problem-6**<br>\n",
        "Check a number is prime or not"
      ],
      "metadata": {
        "id": "Sxp-egxiha1L"
      }
    },
    {
      "cell_type": "code",
      "source": [
        "num = int(input(\"Enter a number: \"))\n",
        "for i in range(2,num):\n",
        "  if (num % i) == 0:\n",
        "    print(num,\"is not a prime number\")\n",
        "  else:\n",
        "    print(num,\"is a prime number\")\n",
        "          "
      ],
      "metadata": {
        "id": "IoGNy2aMhgop",
        "colab": {
          "base_uri": "https://localhost:8080/"
        },
        "outputId": "c854e508-e95d-4717-9e6e-719d58331ed1"
      },
      "execution_count": null,
      "outputs": [
        {
          "output_type": "stream",
          "name": "stdout",
          "text": [
            "Enter a number: 3\n",
            "3 is a prime number\n"
          ]
        }
      ]
    },
    {
      "cell_type": "markdown",
      "source": [
        "**Problem-7**<br>\n",
        "Print multiplication table upto 10 starting from 1"
      ],
      "metadata": {
        "id": "ntLKcA1hha44"
      }
    },
    {
      "cell_type": "code",
      "source": [
        "for i in range(1,11):\n",
        "  for j in range(1,11):\n",
        "    product = j*i\n",
        "    print(i, '*', j, '=',product)"
      ],
      "metadata": {
        "id": "LScXMd8XLDnO",
        "colab": {
          "base_uri": "https://localhost:8080/"
        },
        "outputId": "a4aaea26-91f7-4a0f-b1d9-6a063f2a26a7"
      },
      "execution_count": null,
      "outputs": [
        {
          "output_type": "stream",
          "name": "stdout",
          "text": [
            "1 * 1 = 1\n",
            "1 * 2 = 2\n",
            "1 * 3 = 3\n",
            "1 * 4 = 4\n",
            "1 * 5 = 5\n",
            "1 * 6 = 6\n",
            "1 * 7 = 7\n",
            "1 * 8 = 8\n",
            "1 * 9 = 9\n",
            "1 * 10 = 10\n",
            "2 * 1 = 2\n",
            "2 * 2 = 4\n",
            "2 * 3 = 6\n",
            "2 * 4 = 8\n",
            "2 * 5 = 10\n",
            "2 * 6 = 12\n",
            "2 * 7 = 14\n",
            "2 * 8 = 16\n",
            "2 * 9 = 18\n",
            "2 * 10 = 20\n",
            "3 * 1 = 3\n",
            "3 * 2 = 6\n",
            "3 * 3 = 9\n",
            "3 * 4 = 12\n",
            "3 * 5 = 15\n",
            "3 * 6 = 18\n",
            "3 * 7 = 21\n",
            "3 * 8 = 24\n",
            "3 * 9 = 27\n",
            "3 * 10 = 30\n",
            "4 * 1 = 4\n",
            "4 * 2 = 8\n",
            "4 * 3 = 12\n",
            "4 * 4 = 16\n",
            "4 * 5 = 20\n",
            "4 * 6 = 24\n",
            "4 * 7 = 28\n",
            "4 * 8 = 32\n",
            "4 * 9 = 36\n",
            "4 * 10 = 40\n",
            "5 * 1 = 5\n",
            "5 * 2 = 10\n",
            "5 * 3 = 15\n",
            "5 * 4 = 20\n",
            "5 * 5 = 25\n",
            "5 * 6 = 30\n",
            "5 * 7 = 35\n",
            "5 * 8 = 40\n",
            "5 * 9 = 45\n",
            "5 * 10 = 50\n",
            "6 * 1 = 6\n",
            "6 * 2 = 12\n",
            "6 * 3 = 18\n",
            "6 * 4 = 24\n",
            "6 * 5 = 30\n",
            "6 * 6 = 36\n",
            "6 * 7 = 42\n",
            "6 * 8 = 48\n",
            "6 * 9 = 54\n",
            "6 * 10 = 60\n",
            "7 * 1 = 7\n",
            "7 * 2 = 14\n",
            "7 * 3 = 21\n",
            "7 * 4 = 28\n",
            "7 * 5 = 35\n",
            "7 * 6 = 42\n",
            "7 * 7 = 49\n",
            "7 * 8 = 56\n",
            "7 * 9 = 63\n",
            "7 * 10 = 70\n",
            "8 * 1 = 8\n",
            "8 * 2 = 16\n",
            "8 * 3 = 24\n",
            "8 * 4 = 32\n",
            "8 * 5 = 40\n",
            "8 * 6 = 48\n",
            "8 * 7 = 56\n",
            "8 * 8 = 64\n",
            "8 * 9 = 72\n",
            "8 * 10 = 80\n",
            "9 * 1 = 9\n",
            "9 * 2 = 18\n",
            "9 * 3 = 27\n",
            "9 * 4 = 36\n",
            "9 * 5 = 45\n",
            "9 * 6 = 54\n",
            "9 * 7 = 63\n",
            "9 * 8 = 72\n",
            "9 * 9 = 81\n",
            "9 * 10 = 90\n",
            "10 * 1 = 10\n",
            "10 * 2 = 20\n",
            "10 * 3 = 30\n",
            "10 * 4 = 40\n",
            "10 * 5 = 50\n",
            "10 * 6 = 60\n",
            "10 * 7 = 70\n",
            "10 * 8 = 80\n",
            "10 * 9 = 90\n",
            "10 * 10 = 100\n"
          ]
        }
      ]
    },
    {
      "cell_type": "markdown",
      "source": [
        "**Problem-8**<br>\n",
        "Print the series of first n fibonacci numbers"
      ],
      "metadata": {
        "id": "09Fwyn_ZhbDY"
      }
    },
    {
      "cell_type": "code",
      "source": [
        "n = int(input(\"Enter a number:\"))\n",
        "f1 = 0\n",
        "f2 = 1\n",
        "c = 2\n",
        "print(f1)\n",
        "print(f2)\n",
        "for i in range(3,n+1):\n",
        "  f3=f1+f2\n",
        "  print(f3)\n",
        "  f1=f2\n",
        "  f2=f3"
      ],
      "metadata": {
        "id": "mo2otdwfhi3J",
        "colab": {
          "base_uri": "https://localhost:8080/"
        },
        "outputId": "0f722e63-c673-4a4f-bcac-3a5d2634d3c2"
      },
      "execution_count": null,
      "outputs": [
        {
          "output_type": "stream",
          "name": "stdout",
          "text": [
            "Enter a number:7\n",
            "0\n",
            "1\n",
            "1\n",
            "2\n",
            "3\n",
            "5\n",
            "8\n"
          ]
        }
      ]
    }
  ]
}